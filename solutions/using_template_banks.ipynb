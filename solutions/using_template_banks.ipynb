{
 "cells": [
  {
   "cell_type": "code",
   "execution_count": 1,
   "metadata": {},
   "outputs": [],
   "source": [
    "import os\n",
    "import pandas as pd\n",
    "import sys\n",
    "import subprocess\n",
    "import uuid\n",
    "import numpy as np\n",
    "import matplotlib.pyplot as plt"
   ]
  },
  {
   "cell_type": "code",
   "execution_count": 2,
   "metadata": {},
   "outputs": [],
   "source": [
    "exe_dir = 'C:/Users/emmav/OneDrive/Dokumente/DataAnalysisLab22/datalab_ss22/code' # directory where the executable is found /PATH/TO/PROBER\n",
    "output_dir = 'C:/Users/emmav/OneDrive/Dokumente/DataAnalysisLab22/datalab_ss22/code' # directory to save the data files\n",
    "data_dir =  'C:/Users/emmav/OneDrive/Dokumente/DataAnalysisLab22/datalab_ss22/code'  # directory for jupyter to find the data in - same as data_dir if not using "
   ]
  },
  {
   "cell_type": "code",
   "execution_count": 3,
   "metadata": {},
   "outputs": [],
   "source": [
    "# Call generate source with given parameters\n",
    "# Have some default values\n",
    "def generate_source(\n",
    "    outputFile=None, \n",
    "    sigma=0.25, \n",
    "    delta_T=None, \n",
    "    N=100000,\n",
    "    f=0, \n",
    "    phi=0, \n",
    "    A=0, \n",
    "    r=0\n",
    "):\n",
    "    \"\"\"\n",
    "    Usage: ./generate_source  [-h] [-o <file>] [-s <float>] [-d <float>] [-N <int>] [-f <float>] [-p <float>] [-a <float>] [-r <int>]\n",
    "      -o, --output=<file>       output file\n",
    "      -s, --sigma=<float>       standard deviation sigma\n",
    "      -d, --deltaT=<float>      delta T betwean measurements\n",
    "      -N, --length=<int>        number of elements\n",
    "      -f, --freq=<float>        frequency\n",
    "      -p, --phase=<float>       phase\n",
    "      -a, --amplitude=<float>   signal amplitude\n",
    "      -r, --random=<int>        if set to 1, generate random signal\n",
    "      -h, --help                print this help and exit\n",
    "    \"\"\"\n",
    "    if delta_T == None : \n",
    "        delta_T = 1/N\n",
    "    if outputFile == None:\n",
    "        outputFile = \"data_\" + str(uuid.uuid4()) + \".csv\"\n",
    "    \n",
    "    outputPath = os.path.join(output_dir, outputFile) # output_dir + \"/\" + \"myfilename.csv\"\n",
    "    exe_path = os.path.join(exe_dir, 'generate_source')\n",
    "    #cmd_str = f\"{base_cmd} {exe_path} -o {outputPath} -s {sigma} \"\\\n",
    "        #f\"-d {delta_T} -N {N} -f {f} -p {phi} -a {A} -r {r}\"\n",
    "    \n",
    "    cmd_str = f\"{exe_path} -o {outputPath} -s {sigma} -d {delta_T} -N {N} -f {f} -p {phi} -a {A} -r {r}\"\n",
    "    \n",
    "    # Optionally print the command line and test it outside the notebook\n",
    "    #print(cmd_str)\n",
    "    \n",
    "    cmd = cmd_str.split(' ')\n",
    "    process = subprocess.Popen(cmd,stdout=subprocess.PIPE)\n",
    "\n",
    "    out, err = process.communicate()\n",
    "    if err:\n",
    "        print('The process raised an error:', err.decode())\n",
    "    if out:\n",
    "        print('The process has an output:', out.decode())\n",
    "\n",
    "    return os.path.join(data_dir, outputFile)\n"
   ]
  },
  {
   "cell_type": "code",
   "execution_count": 4,
   "metadata": {},
   "outputs": [],
   "source": [
    "def prober_m3(inputFile, f=0, outputFile=None, phi=0, templateFile=None):\n",
    "    \"\"\"\n",
    "    Usage: ./prober  [-h] [-i <file>] [-o <file>] [-f <float>] [-p <float>] [-t <file>] [-m <int>]\n",
    "      -i, --input=<file>        input file\n",
    "      -o, --output=<file>       output file\n",
    "      -f, --freq=<float>        frequency\n",
    "      -p, --phase=<float>       phase\n",
    "      -h, --help                print this help and exit\n",
    "      -t, --templatebank=<file> template bank file\n",
    "      -m, --method=<int>        select method to analyze signal 1, 2 or 3\n",
    "    \"\"\"\n",
    "    \n",
    "    if outputFile == None:\n",
    "        outputFile = \"results_\" + str(uuid.uuid4()) + \".csv\"\n",
    "    \n",
    "    exe_path = os.path.join(exe_dir, 'prober')\n",
    "    \n",
    "    \"\"\"\n",
    "    prober -i data/data_01.csv -o data/results_01.csv -t template.txt -m 1\n",
    "    \"\"\"\n",
    "    \n",
    "    cmd_str = f\"{exe_path} -i {os.path.join(output_dir, inputFile)} -o {output_dir}/{outputFile} -m 3\"\n",
    "    \n",
    "    \n",
    "    if templateFile:\n",
    "        cmd_str += f\" -t {output_dir}/{templateFile} \"\n",
    "    else:\n",
    "        cmd_str += f\" -f {f} -p {phi}\"\n",
    "    \n",
    "    # Optionally print the command line and test it outside the notebook\n",
    "    #print(cmd_str)\n",
    "    \n",
    "    cmd = cmd_str.split(' ')\n",
    "    process = subprocess.Popen(cmd,stdout=subprocess.PIPE)\n",
    "    out, err = process.communicate()\n",
    "    if err:\n",
    "        print('The process raised an error:', err.decode())\n",
    "\n",
    "    #if os.path.isfile(outputFile):\n",
    "        #print(f\"Output generated in file {outputFile}\")\n",
    "\n",
    "    return f\"{output_dir}/{outputFile}\"\n",
    "    \n",
    "    \n",
    "    "
   ]
  },
  {
   "cell_type": "code",
   "execution_count": 5,
   "metadata": {},
   "outputs": [],
   "source": [
    "def prober_m12(inputFile, f=0, outputFile=None, phi=0, templateFile=None, mod=1):\n",
    "    \"\"\"\n",
    "    Usage: ./prober  [-h] [-i <file>] [-o <file>] [-f <float>] [-p <float>] [-t <file>] [-m <int>]\n",
    "      -i, --input=<file>        input file\n",
    "      -o, --output=<file>       output file\n",
    "      -f, --freq=<float>        frequency\n",
    "      -p, --phase=<float>       phase\n",
    "      -h, --help                print this help and exit\n",
    "      -t, --templatebank=<file> template bank file\n",
    "      -m, --method=<int>        select method to analyze signal 1, 2 or 3\n",
    "    \"\"\"\n",
    "    \n",
    "    if mod == 3:\n",
    "        print(\"This is the wrong function.\")\n",
    "        return \n",
    "    \n",
    "    exe_path = os.path.join(exe_dir, 'prober')\n",
    "    \n",
    "    \"\"\"\n",
    "    prober -i data/data_01.csv -o data/results_01.csv -t template.txt -m 1\n",
    "    \"\"\"\n",
    "    \n",
    "    cmd_str = f\"{exe_path} -i {os.path.join(output_dir, inputFile)} -m {mod}\"\n",
    "    \n",
    "    if templateFile:\n",
    "        cmd_str += f\" -t {output_dir}/{templateFile} \"\n",
    "    else:\n",
    "        cmd_str += f\" -f {f} -p {phi}\"\n",
    "    \n",
    "    # Optionally print the command line and test it outside the notebook\n",
    "    #print(cmd_str)\n",
    "    \n",
    "    cmd = cmd_str.split(' ')\n",
    "    process = subprocess.Popen(cmd,stdout=subprocess.PIPE)\n",
    "    out, err = process.communicate()\n",
    "    if err:\n",
    "        print('The process raised an error:', err.decode())\n",
    "        return \n",
    "    #print(out.decode())   \n",
    "        \n",
    "    return str(out.decode())\n",
    "        \n",
    "    \n",
    "    "
   ]
  },
  {
   "cell_type": "code",
   "execution_count": 6,
   "metadata": {},
   "outputs": [],
   "source": [
    "# Find frequency of the signal.\n",
    "def find_freq_m3(file_name):\n",
    "    \n",
    "    # analyse input file using method 3\n",
    "    results = np.loadtxt(prober_m3(os.path.join(exe_dir,file_name)))\n",
    "    res_max = np.argmax(results[:,2])\n",
    "    best_f = results[res_max,0]\n",
    "    \n",
    "   \n",
    "    return best_f"
   ]
  },
  {
   "cell_type": "code",
   "execution_count": 7,
   "metadata": {},
   "outputs": [],
   "source": [
    "# Find phase of the signal. Use method 2, i.e., find phase for which s2 has a minimum.\n",
    "def find_phase_m2(file_name, freq, phase_steps):\n",
    "    \n",
    "    phase = 0\n",
    "    p = 0\n",
    "    \n",
    "    # calculate s2 using prober\n",
    "    result_str = prober_m12(os.path.join(exe_dir, file_name), f=freq, phi=p, mod=2)\n",
    "    s2_min = float(result_str.split()[2])\n",
    "    \n",
    "    # generate array of phase values between 0 and 2*Pi with the given number of steps\n",
    "    phase_array = np.linspace(0.0, 2*np.pi, num=phase_steps)\n",
    "    \n",
    "    for i in range(0, phase_steps):\n",
    "        p = phase_array[i]\n",
    "        # calculate s2 using prober with input: file at file_path, frequency, phase = i\n",
    "        result_str = prober_m12(os.path.join(exe_dir, file_name), f=freq, phi=p, mod=2)\n",
    "        s2 = float(result_str.split()[2])\n",
    "        if s2 < s2_min:\n",
    "            phase = p\n",
    "            s2_min = s2\n",
    "    \n",
    "    return phase"
   ]
  },
  {
   "cell_type": "code",
   "execution_count": 8,
   "metadata": {},
   "outputs": [],
   "source": [
    "# Calculate amplitude using method 1 if frequency and phase are known.\n",
    "def find_amplitude_m1(file_name, freq, phase):\n",
    "    \n",
    "    # calculate s1 using prober\n",
    "    result_str = prober_m12(os.path.join(exe_dir, file_name), f=freq, phi=phase, mod=1)\n",
    "    s1 = float(result_str.split()[2])\n",
    "    \n",
    "    amplitude = 2*s1 \n",
    "    \n",
    "    return amplitude "
   ]
  },
  {
   "cell_type": "code",
   "execution_count": 9,
   "metadata": {},
   "outputs": [],
   "source": [
    "def find_freq_phase_amplitude(file_name, phase_steps):\n",
    "    freq = find_freq_m3(file_name)\n",
    "    phase = find_phase_m2(file_name, freq, phase_steps)\n",
    "    amplitude = find_amplitude_m1(file_name, freq, phase)\n",
    "    \n",
    "    results = [freq, phase, amplitude]\n",
    "    \n",
    "    return results"
   ]
  },
  {
   "cell_type": "code",
   "execution_count": 10,
   "metadata": {},
   "outputs": [],
   "source": [
    "# generate a template bank with frequencies between fmin and fmax and phases between 0 and 2*Pi\n",
    "def generate_template_bank(f_min, f_max, f_steps, phase_steps, filename):\n",
    "    \n",
    "    freqs = np.linspace(f_min, f_max, f_steps+1) \n",
    "    phases = np.linspace(0, 2*np.pi, phase_steps+1)\n",
    "    result = []\n",
    "\n",
    "    for f in freqs:\n",
    "        for ph in phases:\n",
    "            result.append([f,ph])\n",
    "            \n",
    "    np.savetxt(os.path.join(output_dir, filename), result, delimiter=' ')\n",
    "    file_path = f\"{output_dir}/{filename}\"\n",
    "    \n",
    "    return file_path\n",
    "    \n",
    "    "
   ]
  },
  {
   "cell_type": "code",
   "execution_count": 11,
   "metadata": {},
   "outputs": [],
   "source": [
    "def prober(inputFile, f=0, outputFile=None, phi=0, templateFile=None, mod=1):\n",
    "    \"\"\"\n",
    "    Usage: ./prober  [-h] [-i <file>] [-o <file>] [-f <float>] [-p <float>] [-t <file>] [-m <int>]\n",
    "      -i, --input=<file>        input file\n",
    "      -o, --output=<file>       output file\n",
    "      -f, --freq=<float>        frequency\n",
    "      -p, --phase=<float>       phase\n",
    "      -h, --help                print this help and exit\n",
    "      -t, --templatebank=<file> template bank file\n",
    "      -m, --method=<int>        select method to analyze signal 1, 2 or 3\n",
    "    \"\"\"\n",
    "    \n",
    "    if outputFile == None:\n",
    "        outputFile = \"results_\" + str(uuid.uuid4()) + \".csv\"\n",
    "    \n",
    "    exe_path = os.path.join(exe_dir, 'prober')\n",
    "    \n",
    "    \"\"\"\n",
    "    prober -i data/data_01.csv -o data/results_01.csv -t template.txt -m 1\n",
    "    \"\"\"\n",
    "    \n",
    "    cmd_str = f\"{exe_path} -i {os.path.join(output_dir, inputFile)} -o {os.path.join(output_dir, outputFile)} -m {mod}\"\n",
    "    \n",
    "    if templateFile:\n",
    "        cmd_str += f\" -t {os.path.join(output_dir, templateFile)} \"\n",
    "    else:\n",
    "        cmd_str += f\" -f {f} -p {phi}\"\n",
    "    \n",
    "    # Optionally print the command line and test it outside the notebook\n",
    "    #print(cmd_str)\n",
    "    \n",
    "    cmd = cmd_str.split(' ')\n",
    "    process = subprocess.Popen(cmd,stdout=subprocess.PIPE)\n",
    "    out, err = process.communicate()\n",
    "    if err:\n",
    "        print('The process raised an error:', err.decode())\n",
    "    if out:\n",
    "        print('The process has an output:', out.decode())\n",
    "    if os.path.isfile(outputFile):\n",
    "        print(f\"Output generated in file {outputFile}\")\n",
    "\n",
    "    return f\"{output_dir}/{outputFile}\"\n",
    "    \n",
    "    "
   ]
  },
  {
   "cell_type": "code",
   "execution_count": 61,
   "metadata": {},
   "outputs": [
    {
     "data": {
      "text/plain": [
       "'C:/Users/emmav/OneDrive/Dokumente/DataAnalysisLab22/datalab_ss22/code/temp_bank_4.txt'"
      ]
     },
     "execution_count": 61,
     "metadata": {},
     "output_type": "execute_result"
    }
   ],
   "source": [
    "generate_template_bank(40,60,200,0, \"temp_bank_4.txt\")"
   ]
  },
  {
   "cell_type": "code",
   "execution_count": 72,
   "metadata": {},
   "outputs": [
    {
     "data": {
      "text/plain": [
       "'C:/Users/emmav/OneDrive/Dokumente/DataAnalysisLab22/datalab_ss22/code/result_f5005_phi0_A50_s1.txt'"
      ]
     },
     "execution_count": 72,
     "metadata": {},
     "output_type": "execute_result"
    }
   ],
   "source": [
    "prober(\"data_f5005_phi0_A50_s1.txt\", outputFile=\"result_f5005_phi0_A50_s1.txt\", templateFile=\"temp_bank_4.txt\", mod=1)"
   ]
  },
  {
   "cell_type": "code",
   "execution_count": 71,
   "metadata": {},
   "outputs": [
    {
     "name": "stdout",
     "output_type": "stream",
     "text": [
      "C:/Users/emmav/OneDrive/Dokumente/DataAnalysisLab22/datalab_ss22/code\\generate_source -o C:/Users/emmav/OneDrive/Dokumente/DataAnalysisLab22/datalab_ss22/code\\data_f5005_phi0_A50_s1.txt -s 1 -d 1e-05 -N 100000 -f 50.05 -p 0 -a 50 -r 0\n"
     ]
    },
    {
     "data": {
      "text/plain": [
       "'C:/Users/emmav/OneDrive/Dokumente/DataAnalysisLab22/datalab_ss22/code\\\\data_f5005_phi0_A50_s1.txt'"
      ]
     },
     "execution_count": 71,
     "metadata": {},
     "output_type": "execute_result"
    }
   ],
   "source": [
    "generate_source(\n",
    "    outputFile=\"data_f5005_phi0_A50_s1.txt\", \n",
    "    sigma=1, \n",
    "    delta_T=None, \n",
    "    N=100000,\n",
    "    f=50.05, \n",
    "    phi=0, \n",
    "    A=50, \n",
    "    r=0\n",
    ")"
   ]
  },
  {
   "cell_type": "code",
   "execution_count": 17,
   "metadata": {},
   "outputs": [
    {
     "data": {
      "text/plain": [
       "'50.5 0 24.9959\\r\\n'"
      ]
     },
     "execution_count": 17,
     "metadata": {},
     "output_type": "execute_result"
    }
   ],
   "source": [
    "prober_m12(\"data_f505_phi0_A50_s1.txt\", f=50.5, phi=0, mod=1)"
   ]
  },
  {
   "cell_type": "code",
   "execution_count": 12,
   "metadata": {},
   "outputs": [],
   "source": [
    "# Calculate the mismatch of \n",
    "def mismatch(inputFile, resultFile, freq=0, phase=0):\n",
    "    # save s1 results from resultFile in list \n",
    "    #data = pd.read_csv(os.path.join(exe_dir,resultFile), header=None, names=['f', 'p', 's1'], delimiter=' ')\n",
    "    \n",
    "    data = np.loadtxt(os.path.join(exe_dir,resultFile))\n",
    "    \n",
    "    f_list = data[:,0]\n",
    "    p_list = data[:,1]\n",
    "    s1_list = data[:,2]\n",
    "    \n",
    "    #print(len(f_list))\n",
    "    #print(len(p_list))\n",
    "    \n",
    "    # calculate s1 for correct parameters\n",
    "    result_str = prober_m12(os.path.join(exe_dir, inputFile), f=freq, phi=phase, mod=1)\n",
    "    s1 = float(result_str.split()[2])\n",
    "    print(s1)\n",
    "    \n",
    "    # generate mismatch list\n",
    "    mismatch_list = []\n",
    "    for i in range(len(f_list)):\n",
    "        #for j in range(len(p_list)):\n",
    "        \n",
    "        mismatch =1 - s1_list[i]/s1\n",
    "        mismatch_list.append(mismatch)\n",
    "    \n",
    "    # plot mismatch graph\n",
    "    plt.plot(f_list, mismatch_list)\n",
    "    plt.xlabel(\"f [Hz]\")\n",
    "    plt.show()\n",
    "    plt.close()\n",
    "    \n",
    "    return min(mismatch_list)"
   ]
  },
  {
   "cell_type": "code",
   "execution_count": 13,
   "metadata": {},
   "outputs": [],
   "source": [
    "def mismatch_no_plot(inputFile, templateBank, resultFile, freq=0, phase=0):\n",
    "    # use prober with template bank\n",
    "    prober(inputFile, outputFile=resultFile, templateFile=templateBank, mod=1)\n",
    "    \n",
    "    \n",
    "    # save s1 results from resultFile in list \n",
    "    #data = pd.read_csv(os.path.join(exe_dir,resultFile), header=None, names=['f', 'p', 's1'], delimiter=' ')\n",
    "    \n",
    "    data = np.loadtxt(os.path.join(exe_dir,resultFile))\n",
    "    \n",
    "    f_list = data[:,0]\n",
    "    p_list = data[:,1]\n",
    "    s1_list = data[:,2]\n",
    "    \n",
    "    #print(len(f_list))\n",
    "    #print(len(p_list))\n",
    "    \n",
    "    # calculate s1 for correct parameters\n",
    "    result_str = prober_m12(os.path.join(exe_dir, inputFile), f=freq, phi=phase, mod=1)\n",
    "    s1 = float(result_str.split()[2])\n",
    "    #print(s1)\n",
    "    \n",
    "    # generate mismatch list\n",
    "    mismatch_list = []\n",
    "    for i in range(len(f_list)):\n",
    "        #for j in range(len(p_list)):\n",
    "        \n",
    "        mismatch =1 - s1_list[i]/s1\n",
    "        mismatch_list.append(mismatch)\n",
    "    \n",
    "    return min(mismatch_list)"
   ]
  },
  {
   "cell_type": "code",
   "execution_count": 83,
   "metadata": {},
   "outputs": [
    {
     "data": {
      "text/plain": [
       "0.015939620828411827"
      ]
     },
     "execution_count": 83,
     "metadata": {},
     "output_type": "execute_result"
    }
   ],
   "source": [
    "mismatch_no_plot(\"data_f5005_phi0_A50_s1.txt\", \"temp_bank_4.txt\", \"result_f5005_phi0_A50_s1.txt\", freq=50.05, phase=0)"
   ]
  },
  {
   "cell_type": "code",
   "execution_count": 14,
   "metadata": {},
   "outputs": [
    {
     "name": "stdout",
     "output_type": "stream",
     "text": [
      "24.9755\n"
     ]
    },
    {
     "data": {
      "image/png": "[encoded data removed]",
      "text/plain": [
       "<Figure size 432x288 with 1 Axes>"
      ]
     },
     "metadata": {
      "needs_background": "light"
     },
     "output_type": "display_data"
    },
    {
     "data": {
      "text/plain": [
       "0.015939620828411827"
      ]
     },
     "execution_count": 14,
     "metadata": {},
     "output_type": "execute_result"
    }
   ],
   "source": [
    "mismatch(\"data_f5005_phi0_A50_s1.txt\", \"result_f5005_phi0_A50_s1.txt\", freq=50.05, phase=0)"
   ]
  },
  {
   "cell_type": "code",
   "execution_count": 13,
   "metadata": {},
   "outputs": [],
   "source": [
    "def generate_sources_freq_list(f_min, f_max, N_df, file_name_body, amplitude, phase, sig):\n",
    "     \n",
    "    freqs = np.linspace(f_min, f_max, N_df) \n",
    "    file_paths = []\n",
    "    \n",
    "    for i in range(len(freqs)):\n",
    "        \n",
    "        generate_source(\n",
    "            outputFile=f\"{file_name_body}_{i}.txt\", \n",
    "            sigma=sig, \n",
    "            delta_T=None, \n",
    "            N=100000,\n",
    "            f=freqs[i], \n",
    "            phi=phase, \n",
    "            A=amplitude, \n",
    "            r=0\n",
    "        )\n",
    "        file_paths.append(f\"{output_dir}/{file_name_body}_{i}.txt\")\n",
    "    \n",
    "    return [freqs, file_paths]"
   ]
  },
  {
   "cell_type": "code",
   "execution_count": 21,
   "metadata": {},
   "outputs": [],
   "source": [
    "[frequencies,files] = generate_sources_freq_list(10,20, 20,\"sources\", 50, 0, 1);"
   ]
  },
  {
   "cell_type": "code",
   "execution_count": 22,
   "metadata": {},
   "outputs": [],
   "source": [
    "m = []\n",
    "for i in range(len(files)):\n",
    "    m.append(mismatch_no_plot(files[i], \"temp_bank_4.txt\", f\"result_{i}.txt\", freq=frequencies[i], phase=0))\n",
    "    "
   ]
  },
  {
   "cell_type": "code",
   "execution_count": 23,
   "metadata": {},
   "outputs": [
    {
     "data": {
      "text/plain": [
       "[0.01580837747906827,\n",
       " 0.015808947191389144,\n",
       " 0.01585382453499451,\n",
       " 0.015839260540817524,\n",
       " 0.01586036789967249,\n",
       " 0.015884647110171457,\n",
       " 0.015894432144387016,\n",
       " 0.01589602319137684,\n",
       " 0.01591159336149428,\n",
       " 0.0159349788801475,\n",
       " 0.015952015823887278,\n",
       " 0.01591788039170161,\n",
       " 0.01593250607629504,\n",
       " 0.015908981729090943,\n",
       " 0.01598136041730891,\n",
       " 0.015996157079380402,\n",
       " 0.015984047984176075,\n",
       " 0.015998078308911978,\n",
       " 0.0159795960857797,\n",
       " 0.015997694026086307]"
      ]
     },
     "execution_count": 23,
     "metadata": {},
     "output_type": "execute_result"
    }
   ],
   "source": [
    "m"
   ]
  },
  {
   "cell_type": "code",
   "execution_count": 24,
   "metadata": {},
   "outputs": [],
   "source": [
    "def generate_sources_list(n, file_name_body, freq, amplitude, phase, sig, data_points):\n",
    "     \n",
    "    file_paths = []\n",
    "    \n",
    "    for i in range(n):\n",
    "        \n",
    "        generate_source(\n",
    "            outputFile=f\"{file_name_body}_{i}.txt\", \n",
    "            sigma=sig, \n",
    "            delta_T=None, \n",
    "            N=data_points,\n",
    "            f=freq, \n",
    "            phi=phase, \n",
    "            A=amplitude, \n",
    "            r=0\n",
    "        )\n",
    "        file_paths.append(f\"{output_dir}/{file_name_body}_{i}.txt\")\n",
    "    \n",
    "    return file_paths"
   ]
  },
  {
   "cell_type": "code",
   "execution_count": 21,
   "metadata": {},
   "outputs": [],
   "source": [
    "# generate data sets with only noise, compute s1 for every data set, plot a histogram\n",
    "[sigmas,files1] = generate_sources_sig_list(10.0, 100,\"data_sigma\", 0, 10, 1);\n",
    "    "
   ]
  },
  {
   "cell_type": "code",
   "execution_count": 15,
   "metadata": {},
   "outputs": [],
   "source": [
    "def analyze_files_m1(file_list, freq, phase):\n",
    "    \n",
    "    s1_list = []\n",
    "    \n",
    "    for i in range(len(file_list)):\n",
    "        result_str = prober_m12(file_list[i], f=freq, phi=phase, mod=1)\n",
    "        s1_list.append(float(result_str.split()[2]))\n",
    "    \n",
    "    return s1_list"
   ]
  },
  {
   "cell_type": "code",
   "execution_count": 72,
   "metadata": {},
   "outputs": [],
   "source": [
    "def prober_m1_template_bank(inputFile, templateBank, resultFile):\n",
    "    # use prober with template bank\n",
    "    prober(inputFile, outputFile=resultFile, templateFile=templateBank, mod=1)\n",
    "    \n",
    "    \n",
    "    # save s1 results from resultFile in list \n",
    "    #data = pd.read_csv(os.path.join(exe_dir,resultFile), header=None, names=['f', 'p', 's1'], delimiter=' ')\n",
    "    \n",
    "    data = np.loadtxt(os.path.join(exe_dir,resultFile))\n",
    "    \n",
    "    f_list = data[:,0]\n",
    "    p_list = data[:,1]\n",
    "    s1_list = data[:,2]\n",
    "    \n",
    "    #print(len(f_list))\n",
    "    #print(len(p_list))\n",
    "    \n",
    "    # get index of maximum of s1 list\n",
    "    s1_max_index = np.argmax(s1_list)\n",
    "    freq = f_list[s1_max_index]\n",
    "    #phase = p_list[s1_max_index]\n",
    "    \n",
    "    # calculate s1 for correct parameters\n",
    "    #result_str = prober_m12(os.path.join(exe_dir, inputFile), f=freq, phi=phase, mod=1)\n",
    "    #s1 = float(result_str.split()[2])\n",
    "    \n",
    "   \n",
    "    return [s1_list[s1_max_index], freq]"
   ]
  },
  {
   "cell_type": "code",
   "execution_count": 116,
   "metadata": {},
   "outputs": [],
   "source": [
    "def prober_m2_template_bank(inputFile, templateBank, resultFile):\n",
    "    # use prober with template bank\n",
    "    prober(inputFile, outputFile=resultFile, templateFile=templateBank, mod=2)\n",
    "    \n",
    "    \n",
    "    # save s1 results from resultFile in list \n",
    "    #data = pd.read_csv(os.path.join(exe_dir,resultFile), header=None, names=['f', 'p', 's1'], delimiter=' ')\n",
    "    \n",
    "    data = np.loadtxt(os.path.join(exe_dir,resultFile))\n",
    "    \n",
    "    f_list = data[:,0]\n",
    "    p_list = data[:,1]\n",
    "    s1_list = data[:,2]\n",
    "    \n",
    "    #print(len(f_list))\n",
    "    #print(len(p_list))\n",
    "    \n",
    "    # get index of maximum of s1 list\n",
    "    s2_min_index = np.argmin(s1_list)\n",
    "    freq = f_list[s2_min_index]\n",
    "    #phase = p_list[s2_min_index]\n",
    "    \n",
    "    return [s1_list[s2_min_index], freq]"
   ]
  },
  {
   "cell_type": "code",
   "execution_count": 20,
   "metadata": {},
   "outputs": [],
   "source": [
    "def analyze_files_with_template_bank(file_list, templateBank,resultFile_name):\n",
    "    \n",
    "    s1_list = []\n",
    "    \n",
    "    for i in range(len(file_list)):\n",
    "        s1_list.append(prober_m1_template_bank(file_list[i], templateBank, f\"{resultFile_name}_{i}.txt\"))\n",
    "    \n",
    "    return s1_list"
   ]
  },
  {
   "cell_type": "code",
   "execution_count": 21,
   "metadata": {},
   "outputs": [
    {
     "data": {
      "text/plain": [
       "'C:/Users/emmav/OneDrive/Dokumente/DataAnalysisLab22/datalab_ss22/code/temp_bank_fine.txt'"
      ]
     },
     "execution_count": 21,
     "metadata": {},
     "output_type": "execute_result"
    }
   ],
   "source": [
    "generate_template_bank(10,20,40,0, \"temp_bank_coarse.txt\")\n",
    "generate_template_bank(10,20,100,0, \"temp_bank_medium.txt\")\n",
    "generate_template_bank(10,20,200,0, \"temp_bank_fine.txt\")"
   ]
  },
  {
   "cell_type": "code",
   "execution_count": 55,
   "metadata": {},
   "outputs": [],
   "source": [
    "noise_files_100 = generate_sources_list(100, \"noise_100\", 15, 0, 0, 10.5, 100)"
   ]
  },
  {
   "cell_type": "code",
   "execution_count": 56,
   "metadata": {},
   "outputs": [],
   "source": [
    "noise_files_1000 = generate_sources_list(100, \"noise_1000\", 15, 0, 0, 10.5, 1000)"
   ]
  },
  {
   "cell_type": "code",
   "execution_count": 57,
   "metadata": {},
   "outputs": [],
   "source": [
    "noise_files_10000 = generate_sources_list(100, \"noise_10000\", 15, 0, 0, 10.5, 10000)"
   ]
  },
  {
   "cell_type": "code",
   "execution_count": 58,
   "metadata": {},
   "outputs": [],
   "source": [
    "noise_s1_list_100 = analyze_files_m1(noise_files_100, 15, 0);"
   ]
  },
  {
   "cell_type": "code",
   "execution_count": 59,
   "metadata": {},
   "outputs": [],
   "source": [
    "noise_s1_list_1000 = analyze_files_m1(noise_files_1000, 15, 0);"
   ]
  },
  {
   "cell_type": "code",
   "execution_count": 60,
   "metadata": {},
   "outputs": [],
   "source": [
    "noise_s1_list_10000 = analyze_files_m1(noise_files_10000, 15, 0);"
   ]
  },
  {
   "cell_type": "code",
   "execution_count": 61,
   "metadata": {},
   "outputs": [],
   "source": [
    "signal_files_100 = generate_sources_list(100, \"signal_100\", 15, 2, 0, 10.5, 100)"
   ]
  },
  {
   "cell_type": "code",
   "execution_count": 62,
   "metadata": {},
   "outputs": [],
   "source": [
    "signal_files_1000 = generate_sources_list(100, \"signal_1000\", 15, 2, 0, 10.5, 1000)"
   ]
  },
  {
   "cell_type": "code",
   "execution_count": 63,
   "metadata": {},
   "outputs": [],
   "source": [
    "signal_files_10000 = generate_sources_list(100, \"signal_10000\", 15, 2, 0, 10.5, 10000)"
   ]
  },
  {
   "cell_type": "code",
   "execution_count": 64,
   "metadata": {},
   "outputs": [],
   "source": [
    "signal_s1_list_100 = analyze_files_m1(signal_files_100, 15, 0);"
   ]
  },
  {
   "cell_type": "code",
   "execution_count": 65,
   "metadata": {},
   "outputs": [],
   "source": [
    "signal_s1_list_1000 = analyze_files_m1(signal_files_1000, 15, 0);"
   ]
  },
  {
   "cell_type": "code",
   "execution_count": 66,
   "metadata": {},
   "outputs": [],
   "source": [
    "signal_s1_list_10000 = analyze_files_m1(signal_files_10000, 15, 0);"
   ]
  },
  {
   "cell_type": "code",
   "execution_count": 67,
   "metadata": {},
   "outputs": [
    {
     "data": {
      "image/png": "[encoded data removed]",
      "text/plain": [
       "<Figure size 432x288 with 1 Axes>"
      ]
     },
     "metadata": {
      "needs_background": "light"
     },
     "output_type": "display_data"
    }
   ],
   "source": [
    "plt.hist(noise_s1_list_100, bins = 100)\n",
    "plt.hist(signal_s1_list_100, bins = 100)\n",
    "plt.xlabel(\"s1\")\n",
    "plt.ylabel(\"number\")\n",
    "plt.title(\"Noise and signal histogram\")\n",
    "plt.show()"
   ]
  },
  {
   "cell_type": "code",
   "execution_count": 69,
   "metadata": {},
   "outputs": [],
   "source": [
    "noise_files = generate_sources_list(1000, \"noise\", 15, 0, 0, 12.5)"
   ]
  },
  {
   "cell_type": "code",
   "execution_count": 70,
   "metadata": {},
   "outputs": [],
   "source": [
    "noise_s1_list = analyze_files_m1(noise_files, 15, 0);"
   ]
  },
  {
   "cell_type": "code",
   "execution_count": 71,
   "metadata": {},
   "outputs": [],
   "source": [
    "signal_files = generate_sources_list(1000, \"signal\", 15, 1, 0, 12.5)"
   ]
  },
  {
   "cell_type": "code",
   "execution_count": 72,
   "metadata": {},
   "outputs": [],
   "source": [
    "signal_s1_list = analyze_files_m1(signal_files, 15, 0);"
   ]
  },
  {
   "cell_type": "code",
   "execution_count": 83,
   "metadata": {},
   "outputs": [
    {
     "data": {
      "image/png": "[encoded data removed]",
      "text/plain": [
       "<Figure size 432x288 with 1 Axes>"
      ]
     },
     "metadata": {
      "needs_background": "light"
     },
     "output_type": "display_data"
    }
   ],
   "source": [
    "plt.hist(noise_s1_list, bins = 100)\n",
    "plt.hist(signal_s1_list, bins = 100)\n",
    "plt.xlabel(\"s1\")\n",
    "plt.ylabel(\"number\")\n",
    "plt.title(\"Noise and signal histogram\")\n",
    "plt.show()"
   ]
  },
  {
   "cell_type": "code",
   "execution_count": 17,
   "metadata": {},
   "outputs": [],
   "source": [
    "# To generate the ROC curve, the threshold to distinguish between noise/signal is varied.\n",
    "# For the different cases, the true positive rate is plotted vs. the false positive rate.\n",
    "def plot_roc(noise_list, signal_list, n_a):\n",
    "    \n",
    "    # get a list of threshold values\n",
    "    a_list = np.linspace(0,1,n_a)\n",
    "    \n",
    "    # determine the true positive and false negative rate for all thresholds \n",
    "    # save the results in a list of data pairs: (false positive, true positive)\n",
    "    \n",
    "    N_noise = len(noise_list)\n",
    "    N_signal = len(signal_list)\n",
    "    \n",
    "    false_positive_list = []\n",
    "    true_positive_list = []\n",
    "    \n",
    "    for i in range(len(a_list)):\n",
    "        fp_count = 0\n",
    "        tp_count = 0\n",
    "        for j in range(N_noise):\n",
    "            if noise_list[j] > a_list[i]:\n",
    "                fp_count += 1\n",
    "                \n",
    "        false_positive_list.append(fp_count/N_noise)\n",
    "            \n",
    "        for k in range(N_signal):\n",
    "            if signal_list[k] > a_list[i]:\n",
    "                tp_count += 1\n",
    "                \n",
    "        true_positive_list.append(tp_count/N_signal)\n",
    "            \n",
    "    plt.plot(false_positive_list, true_positive_list)\n",
    "    plt.xlabel(\"false positive rate\")\n",
    "    plt.ylabel(\"true positive rate\")\n",
    "    plt.title(\"ROC curve\")\n",
    "    plt.show()\n",
    "        \n",
    "    return #[false_positive_list, true_positive_list]"
   ]
  },
  {
   "cell_type": "code",
   "execution_count": 68,
   "metadata": {},
   "outputs": [
    {
     "data": {
      "image/png": "[encoded data removed]",
      "text/plain": [
       "<Figure size 432x288 with 1 Axes>"
      ]
     },
     "metadata": {
      "needs_background": "light"
     },
     "output_type": "display_data"
    }
   ],
   "source": [
    "plot_roc(noise_s1_list_100, signal_s1_list_100, 500)"
   ]
  },
  {
   "cell_type": "code",
   "execution_count": 69,
   "metadata": {},
   "outputs": [
    {
     "data": {
      "image/png": "[encoded data removed]",
      "text/plain": [
       "<Figure size 432x288 with 1 Axes>"
      ]
     },
     "metadata": {
      "needs_background": "light"
     },
     "output_type": "display_data"
    }
   ],
   "source": [
    "plot_roc(noise_s1_list_1000, signal_s1_list_1000, 500)"
   ]
  },
  {
   "cell_type": "code",
   "execution_count": 70,
   "metadata": {},
   "outputs": [
    {
     "data": {
      "image/png": "[encoded data removed]",
      "text/plain": [
       "<Figure size 432x288 with 1 Axes>"
      ]
     },
     "metadata": {
      "needs_background": "light"
     },
     "output_type": "display_data"
    }
   ],
   "source": [
    "plot_roc(noise_s1_list_10000, signal_s1_list_10000, 500)"
   ]
  },
  {
   "cell_type": "code",
   "execution_count": 100,
   "metadata": {},
   "outputs": [],
   "source": [
    "source_t1 =  generate_sources_list(1, \"source_t\", 15.379, 2.5, 0, 12.5, 10000)"
   ]
  },
  {
   "cell_type": "code",
   "execution_count": 84,
   "metadata": {},
   "outputs": [
    {
     "data": {
      "text/plain": [
       "'C:/Users/emmav/OneDrive/Dokumente/DataAnalysisLab22/datalab_ss22/code/temp_bank_very_fine.txt'"
      ]
     },
     "execution_count": 84,
     "metadata": {},
     "output_type": "execute_result"
    }
   ],
   "source": [
    "generate_template_bank(10,20,1000,0, \"temp_bank_very_fine.txt\")"
   ]
  },
  {
   "cell_type": "code",
   "execution_count": 85,
   "metadata": {},
   "outputs": [
    {
     "data": {
      "text/plain": [
       "'C:/Users/emmav/OneDrive/Dokumente/DataAnalysisLab22/datalab_ss22/code/temp_bank_10000.txt'"
      ]
     },
     "execution_count": 85,
     "metadata": {},
     "output_type": "execute_result"
    }
   ],
   "source": [
    "generate_template_bank(10,20,10000,0, \"temp_bank_10000.txt\")"
   ]
  },
  {
   "cell_type": "code",
   "execution_count": 82,
   "metadata": {},
   "outputs": [
    {
     "data": {
      "text/plain": [
       "'C:/Users/emmav/OneDrive/Dokumente/DataAnalysisLab22/datalab_ss22/code/temp_bank_2000.txt'"
      ]
     },
     "execution_count": 82,
     "metadata": {},
     "output_type": "execute_result"
    }
   ],
   "source": [
    "generate_template_bank(10,20,2000,0, \"temp_bank_2000.txt\")"
   ]
  },
  {
   "cell_type": "code",
   "execution_count": 101,
   "metadata": {},
   "outputs": [],
   "source": [
    "r40 = prober_m1_template_bank(source_t1[0], \"temp_bank_coarse.txt\", \"result_t1_coarse.txt\")[1]"
   ]
  },
  {
   "cell_type": "code",
   "execution_count": 110,
   "metadata": {},
   "outputs": [
    {
     "name": "stdout",
     "output_type": "stream",
     "text": [
      "CPU times: total: 15.6 ms\n",
      "Wall time: 185 ms\n"
     ]
    }
   ],
   "source": [
    "%%time\n",
    "r100 = prober_m1_template_bank(source_t1[0], \"temp_bank_medium.txt\", \"result_t1_medium.txt\")[1]"
   ]
  },
  {
   "cell_type": "code",
   "execution_count": 103,
   "metadata": {},
   "outputs": [],
   "source": [
    "r200 = prober_m1_template_bank(source_t1[0], \"temp_bank_fine.txt\", \"result_t1_fine.txt\")[1]"
   ]
  },
  {
   "cell_type": "code",
   "execution_count": 111,
   "metadata": {},
   "outputs": [
    {
     "name": "stdout",
     "output_type": "stream",
     "text": [
      "CPU times: total: 46.9 ms\n",
      "Wall time: 1.33 s\n"
     ]
    }
   ],
   "source": [
    "%%time\n",
    "r1000 = prober_m1_template_bank(source_t1[0], \"temp_bank_very_fine.txt\", \"result_t1_very_fine.txt\")[1]"
   ]
  },
  {
   "cell_type": "code",
   "execution_count": 118,
   "metadata": {},
   "outputs": [
    {
     "name": "stdout",
     "output_type": "stream",
     "text": [
      "CPU times: total: 62.5 ms\n",
      "Wall time: 2.36 s\n"
     ]
    },
    {
     "data": {
      "text/plain": [
       "[160.632, 15.36]"
      ]
     },
     "execution_count": 118,
     "metadata": {},
     "output_type": "execute_result"
    }
   ],
   "source": [
    "%%time\n",
    "prober_m2_template_bank(source_t1[0], \"temp_bank_very_fine.txt\", \"result_t1_very_fine.txt\")"
   ]
  },
  {
   "cell_type": "code",
   "execution_count": 113,
   "metadata": {},
   "outputs": [
    {
     "name": "stdout",
     "output_type": "stream",
     "text": [
      "CPU times: total: 93.8 ms\n",
      "Wall time: 2.49 s\n"
     ]
    }
   ],
   "source": [
    "%%time\n",
    "r2000 = prober_m1_template_bank(source_t1[0], \"temp_bank_2000.txt\", \"result_t1_2000.txt\")[1]"
   ]
  },
  {
   "cell_type": "code",
   "execution_count": 109,
   "metadata": {},
   "outputs": [
    {
     "name": "stdout",
     "output_type": "stream",
     "text": [
      "CPU times: total: 172 ms\n",
      "Wall time: 12 s\n"
     ]
    }
   ],
   "source": [
    "%%time\n",
    "r10000 = prober_m1_template_bank(source_t1[0], \"temp_bank_10000.txt\", \"result_t1_10000.txt\")[1]"
   ]
  },
  {
   "cell_type": "code",
   "execution_count": 108,
   "metadata": {},
   "outputs": [
    {
     "data": {
      "text/plain": [
       "[]"
      ]
     },
     "execution_count": 108,
     "metadata": {},
     "output_type": "execute_result"
    },
    {
     "data": {
      "image/png": "[encoded data removed]",
      "text/plain": [
       "<Figure size 432x288 with 1 Axes>"
      ]
     },
     "metadata": {
      "needs_background": "light"
     },
     "output_type": "display_data"
    }
   ],
   "source": [
    "plt.scatter([40,100,200,1000,2000,10000],[r40,r100,r200,r1000,r2000,r10000])\n",
    "plt.plot([0,10000],[15.379,15.379])\n",
    "plt.xlabel(\"Templates\")\n",
    "plt.ylabel(\"frequency\")\n",
    "plt.plot()"
   ]
  },
  {
   "cell_type": "code",
   "execution_count": null,
   "metadata": {},
   "outputs": [],
   "source": []
  }
 ],
 "metadata": {
  "kernelspec": {
   "display_name": "Python [conda env:.conda-data_analysis_lab]",
   "language": "python",
   "name": "conda-env-.conda-data_analysis_lab-py"
  },
  "language_info": {
   "codemirror_mode": {
    "name": "ipython",
    "version": 3
   },
   "file_extension": ".py",
   "mimetype": "text/x-python",
   "name": "python",
   "nbconvert_exporter": "python",
   "pygments_lexer": "ipython3",
   "version": "3.8.13"
  }
 },
 "nbformat": 4,
 "nbformat_minor": 4
}
