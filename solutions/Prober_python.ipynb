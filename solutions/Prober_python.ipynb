{
 "cells": [
  {
   "cell_type": "code",
   "execution_count": 1,
   "metadata": {},
   "outputs": [],
   "source": [
    "import subprocess"
   ]
  },
  {
   "cell_type": "code",
   "execution_count": 2,
   "metadata": {},
   "outputs": [
    {
     "data": {
      "text/plain": [
       "-1073741515"
      ]
     },
     "execution_count": 2,
     "metadata": {},
     "output_type": "execute_result"
    }
   ],
   "source": [
    "import os \n",
    "#process = os.popen('C:\\Users\\emmav\\OneDrive\\Dokumente\\DataAnalysisLab22\\datalab_ss22\\code\\generate_source.exe', 'r') \n",
    "# or \n",
    "os.system('\"C://Users//emmav//OneDrive//Dokumente//DataAnalysisLab22//datalab_ss22//code//generate_source.exe\"') "
   ]
  },
  {
   "cell_type": "code",
   "execution_count": 3,
   "metadata": {},
   "outputs": [
    {
     "data": {
      "text/plain": [
       "CompletedProcess(args=['generate_source.exe', '-o testoutput1.txt -r 1'], returncode=3221225781)"
      ]
     },
     "execution_count": 3,
     "metadata": {},
     "output_type": "execute_result"
    }
   ],
   "source": [
    "os.chdir('C:/Users/emmav/OneDrive/Dokumente/DataAnalysisLab22/datalab_ss22/code')\n",
    "subprocess.run([\"generate_source.exe\", \"-o testoutput1.txt -r 1\"])"
   ]
  },
  {
   "cell_type": "code",
   "execution_count": null,
   "metadata": {},
   "outputs": [],
   "source": []
  }
 ],
 "metadata": {
  "kernelspec": {
   "display_name": "Python [conda env:.conda-data_analysis_lab]",
   "language": "python",
   "name": "conda-env-.conda-data_analysis_lab-py"
  },
  "language_info": {
   "codemirror_mode": {
    "name": "ipython",
    "version": 3
   },
   "file_extension": ".py",
   "mimetype": "text/x-python",
   "name": "python",
   "nbconvert_exporter": "python",
   "pygments_lexer": "ipython3",
   "version": "3.8.13"
  }
 },
 "nbformat": 4,
 "nbformat_minor": 4
}
