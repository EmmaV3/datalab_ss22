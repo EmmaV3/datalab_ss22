{
 "cells": [
  {
   "cell_type": "code",
   "execution_count": 1,
   "metadata": {},
   "outputs": [],
   "source": [
    "import os\n",
    "import pandas as pd\n",
    "import sys\n",
    "import subprocess\n",
    "import uuid\n",
    "import numpy as np\n",
    "import matplotlib.pyplot as plt"
   ]
  },
  {
   "cell_type": "code",
   "execution_count": 2,
   "metadata": {},
   "outputs": [],
   "source": [
    "exe_dir = 'C:/Users/emmav/OneDrive/Dokumente/DataAnalysisLab22/datalab_ss22/code' # directory where the executable is found /PATH/TO/PROBER\n",
    "output_dir = 'C:/Users/emmav/OneDrive/Dokumente/DataAnalysisLab22/datalab_ss22/code' # directory to save the data files\n",
    "data_dir =  'C:/Users/emmav/OneDrive/Dokumente/DataAnalysisLab22/datalab_ss22/code'  # directory for jupyter to find the data in - same as data_dir if not using "
   ]
  },
  {
   "cell_type": "code",
   "execution_count": 3,
   "metadata": {},
   "outputs": [],
   "source": [
    "# Call generate source with given parameters\n",
    "# Have some default values\n",
    "def generate_source(\n",
    "    outputFile=None, \n",
    "    sigma=0.25, \n",
    "    delta_T=None, \n",
    "    N=100000,\n",
    "    f=0, \n",
    "    phi=0, \n",
    "    A=0, \n",
    "    r=0\n",
    "):\n",
    "    \"\"\"\n",
    "    Usage: ./generate_source  [-h] [-o <file>] [-s <float>] [-d <float>] [-N <int>] [-f <float>] [-p <float>] [-a <float>] [-r <int>]\n",
    "      -o, --output=<file>       output file\n",
    "      -s, --sigma=<float>       standard deviation sigma\n",
    "      -d, --deltaT=<float>      delta T betwean measurements\n",
    "      -N, --length=<int>        number of elements\n",
    "      -f, --freq=<float>        frequency\n",
    "      -p, --phase=<float>       phase\n",
    "      -a, --amplitude=<float>   signal amplitude\n",
    "      -r, --random=<int>        if set to 1, generate random signal\n",
    "      -h, --help                print this help and exit\n",
    "    \"\"\"\n",
    "    if delta_T == None : \n",
    "        delta_T = 1/N\n",
    "    if outputFile == None:\n",
    "        outputFile = \"data_\" + str(uuid.uuid4()) + \".csv\"\n",
    "    \n",
    "    outputPath = os.path.join(output_dir, outputFile) # output_dir + \"/\" + \"myfilename.csv\"\n",
    "    exe_path = os.path.join(exe_dir, 'generate_source')\n",
    "    #cmd_str = f\"{base_cmd} {exe_path} -o {outputPath} -s {sigma} \"\\\n",
    "        #f\"-d {delta_T} -N {N} -f {f} -p {phi} -a {A} -r {r}\"\n",
    "    \n",
    "    cmd_str = f\"{exe_path} -o {outputPath} -s {sigma} -d {delta_T} -N {N} -f {f} -p {phi} -a {A} -r {r}\"\n",
    "    \n",
    "    # Optionally print the command line and test it outside the notebook\n",
    "    print(cmd_str)\n",
    "    \n",
    "    cmd = cmd_str.split(' ')\n",
    "    process = subprocess.Popen(cmd,stdout=subprocess.PIPE)\n",
    "\n",
    "    out, err = process.communicate()\n",
    "    if err:\n",
    "        print('The process raised an error:', err.decode())\n",
    "    if out:\n",
    "        print('The process has an output:', out.decode())\n",
    "\n",
    "    return os.path.join(data_dir, outputFile)\n"
   ]
  },
  {
   "cell_type": "code",
   "execution_count": 4,
   "metadata": {},
   "outputs": [],
   "source": [
    "# Make the plot nice, more visible\n",
    "%matplotlib inline\n",
    "plt.rcParams['figure.dpi'] = 100\n",
    "plt.style.use('seaborn-paper')\n",
    "\n",
    "def plot_data(filename, title=None):\n",
    "    if (not os.path.isfile(filename)):\n",
    "        if (os.path.isfile(os.path.join(data_dir, filename))):\n",
    "            filename=os.path.join(data_dir, filename)\n",
    "        else:\n",
    "            print(f\"File {filename} not found.\")\n",
    "            sys.exit(0)\n",
    "        \n",
    "    data = pd.read_csv(filename, header=None, names=['t', 'd'], delimiter=' ')\n",
    "    data.plot.line('t', 'd')\n",
    "    plt.xlabel(\"$t [s]$\", fontsize=15)\n",
    "    plt.ylabel(\"$d(t)$\", fontsize=15)\n",
    "    if (title):\n",
    "        plt.title(title, fontsize=18)\n",
    "    plt.savefig(filename.replace('.csv', '.jpg'))\n",
    "    plt.show()\n",
    "    plt.close()"
   ]
  },
  {
   "cell_type": "code",
   "execution_count": 5,
   "metadata": {},
   "outputs": [],
   "source": [
    "def prober(inputFile, f=0, outputFile=None, phi=0, templateFile=None, mod=1):\n",
    "    \"\"\"\n",
    "    Usage: ./prober  [-h] [-i <file>] [-o <file>] [-f <float>] [-p <float>] [-t <file>] [-m <int>]\n",
    "      -i, --input=<file>        input file\n",
    "      -o, --output=<file>       output file\n",
    "      -f, --freq=<float>        frequency\n",
    "      -p, --phase=<float>       phase\n",
    "      -h, --help                print this help and exit\n",
    "      -t, --templatebank=<file> template bank file\n",
    "      -m, --method=<int>        select method to analyze signal 1, 2 or 3\n",
    "    \"\"\"\n",
    "    \n",
    "    if outputFile == None:\n",
    "        outputFile = \"results_\" + str(uuid.uuid4()) + \".csv\"\n",
    "    \n",
    "    exe_path = os.path.join(exe_dir, 'prober')\n",
    "    \n",
    "    \"\"\"\n",
    "    prober -i data/data_01.csv -o data/results_01.csv -t template.txt -m 1\n",
    "    \"\"\"\n",
    "    \n",
    "    cmd_str = f\"{exe_path} -i {os.path.join(output_dir, inputFile)} -o {output_dir}/{outputFile} -m {mod}\"\n",
    "    \n",
    "    if templateFile:\n",
    "        cmd_str += f\" -t {output_dir}/{templateFile} \"\n",
    "    else:\n",
    "        cmd_str += f\" -f {f} -p {phi}\"\n",
    "    \n",
    "    # Optionally print the command line and test it outside the notebook\n",
    "    #print(cmd_str)\n",
    "    \n",
    "    cmd = cmd_str.split(' ')\n",
    "    process = subprocess.Popen(cmd,stdout=subprocess.PIPE)\n",
    "    out, err = process.communicate()\n",
    "    if err:\n",
    "        print('The process raised an error:', err.decode())\n",
    "    if out:\n",
    "        print('The process has an output:', out.decode())\n",
    "    if os.path.isfile(outputFile):\n",
    "        print(f\"Output generated in file {outputFile}\")\n",
    "\n",
    "    return os.path.join(data_dir, outputFile)\n",
    "    \n",
    "    "
   ]
  },
  {
   "cell_type": "code",
   "execution_count": 6,
   "metadata": {},
   "outputs": [],
   "source": [
    "def prober_m3(inputFile, f=0, outputFile=None, phi=0, templateFile=None):\n",
    "    \"\"\"\n",
    "    Usage: ./prober  [-h] [-i <file>] [-o <file>] [-f <float>] [-p <float>] [-t <file>] [-m <int>]\n",
    "      -i, --input=<file>        input file\n",
    "      -o, --output=<file>       output file\n",
    "      -f, --freq=<float>        frequency\n",
    "      -p, --phase=<float>       phase\n",
    "      -h, --help                print this help and exit\n",
    "      -t, --templatebank=<file> template bank file\n",
    "      -m, --method=<int>        select method to analyze signal 1, 2 or 3\n",
    "    \"\"\"\n",
    "    \n",
    "    if outputFile == None:\n",
    "        outputFile = \"results_\" + str(uuid.uuid4()) + \".csv\"\n",
    "    \n",
    "    exe_path = os.path.join(exe_dir, 'prober')\n",
    "    \n",
    "    \"\"\"\n",
    "    prober -i data/data_01.csv -o data/results_01.csv -t template.txt -m 1\n",
    "    \"\"\"\n",
    "    \n",
    "    cmd_str = f\"{exe_path} -i {os.path.join(output_dir, inputFile)} -o {output_dir}/{outputFile} -m 3\"\n",
    "    \n",
    "    \n",
    "    if templateFile:\n",
    "        cmd_str += f\" -t {output_dir}/{templateFile} \"\n",
    "    else:\n",
    "        cmd_str += f\" -f {f} -p {phi}\"\n",
    "    \n",
    "    # Optionally print the command line and test it outside the notebook\n",
    "    #print(cmd_str)\n",
    "    \n",
    "    cmd = cmd_str.split(' ')\n",
    "    process = subprocess.Popen(cmd,stdout=subprocess.PIPE)\n",
    "    out, err = process.communicate()\n",
    "    if err:\n",
    "        print('The process raised an error:', err.decode())\n",
    "\n",
    "    #if os.path.isfile(outputFile):\n",
    "        #print(f\"Output generated in file {outputFile}\")\n",
    "\n",
    "    return f\"{output_dir}/{outputFile}\"\n",
    "    \n",
    "    \n",
    "    "
   ]
  },
  {
   "cell_type": "code",
   "execution_count": 7,
   "metadata": {},
   "outputs": [],
   "source": [
    "def prober_m12(inputFile, f=0, outputFile=None, phi=0, templateFile=None, mod=1):\n",
    "    \"\"\"\n",
    "    Usage: ./prober  [-h] [-i <file>] [-o <file>] [-f <float>] [-p <float>] [-t <file>] [-m <int>]\n",
    "      -i, --input=<file>        input file\n",
    "      -o, --output=<file>       output file\n",
    "      -f, --freq=<float>        frequency\n",
    "      -p, --phase=<float>       phase\n",
    "      -h, --help                print this help and exit\n",
    "      -t, --templatebank=<file> template bank file\n",
    "      -m, --method=<int>        select method to analyze signal 1, 2 or 3\n",
    "    \"\"\"\n",
    "    \n",
    "    if mod == 3:\n",
    "        print(\"This is the wrong function.\")\n",
    "        return \n",
    "    \n",
    "    exe_path = os.path.join(exe_dir, 'prober')\n",
    "    \n",
    "    \"\"\"\n",
    "    prober -i data/data_01.csv -o data/results_01.csv -t template.txt -m 1\n",
    "    \"\"\"\n",
    "    \n",
    "    cmd_str = f\"{exe_path} -i {os.path.join(output_dir, inputFile)} -m {mod}\"\n",
    "    \n",
    "    if templateFile:\n",
    "        cmd_str += f\" -t {output_dir}/{templateFile} \"\n",
    "    else:\n",
    "        cmd_str += f\" -f {f} -p {phi}\"\n",
    "    \n",
    "    # Optionally print the command line and test it outside the notebook\n",
    "    #print(cmd_str)\n",
    "    \n",
    "    cmd = cmd_str.split(' ')\n",
    "    process = subprocess.Popen(cmd,stdout=subprocess.PIPE)\n",
    "    out, err = process.communicate()\n",
    "    if err:\n",
    "        print('The process raised an error:', err.decode())\n",
    "        return \n",
    "    #print(out.decode())   \n",
    "        \n",
    "    return str(out.decode())\n",
    "        \n",
    "    \n",
    "    "
   ]
  },
  {
   "cell_type": "code",
   "execution_count": 8,
   "metadata": {},
   "outputs": [],
   "source": [
    "import math as m\n",
    "def search_f_ph(datafile, freq=None, phase=None, N_df=100, f_min=0.01, f_max=20, mod=1, N_ph=50, title=None):\n",
    "    # Make a frequency space from 0.01 to f_max with N_df steps\n",
    "    freqs = np.linspace(f_min, f_max, N_df) \n",
    "    phases = np.linspace(0, 2*m.pi, N_ph)\n",
    "\n",
    "    #tbank = \"tb_test_fphi.tb\" # can parametrise this later\n",
    "    \n",
    "    results = []\n",
    "    # Generate template bank with this frequency space\n",
    "    # You can also add phase space if feeling like doing a 3D plot\n",
    "    #with open(os.path.join(data_dir,tbank) ,'w') as tbfile:\n",
    "    for f in freqs:\n",
    "        for ph in phases:\n",
    "            #tbfile.write(\"{0} {1}\\n\".format(f,ph))\n",
    "            res = prober(datafile, f=freq, phi=ph).split()\n",
    "            results.append([float(x) for x in res])\n",
    "\n",
    "    #results_file = prober(datafile, templateFile=tbank, mod=mod)\n",
    "    #results = np.loadtxt(results_file)\n",
    "    \n",
    "    # Plotting\n",
    "    plt.figure(figsize=(15,4))\n",
    "    if mod == 3:\n",
    "        ### This is just a Fourier transform, template bank ignored 1/N frequencies tested\n",
    "        best = np.where(results[:,2] == np.max(results[:,2]))\n",
    "        plt.plot(results[:,0], results[:,2])\n",
    "        plt.xscale('log')\n",
    "        plt.xlabel(\"f [Hz]\")\n",
    "        plt.show()\n",
    "        plt.close()\n",
    "        \n",
    "        print(results[:,0][best][0], 0, results[:,2][best][0])\n",
    "        \n",
    "        return (results[:,0][best][0], 0, results[:,2][best][0])\n",
    "    \n",
    "    levels = np.linspace(np.min(results[:,2]),np.max(results[:,2]),30)\n",
    "    CS = plt.contourf(results[:,0].reshape(N_df,N_ph),results[:,1].reshape(N_df,N_ph),results[:,2].reshape(N_df,N_ph),levels)\n",
    "    \n",
    "    if (freq and phase):\n",
    "        plt.scatter(freq,phase,marker=\"x\", label=\"Injection point\")\n",
    "    \n",
    "    # Plot best match\n",
    "    if mod == 1 :\n",
    "        # For S_1 get the maximum\n",
    "        res_max = np.argmax(results[:,2])\n",
    "        plt.scatter(results[res_max][0], results[res_max][1], marker=\"o\", label=\"Loudest point\")\n",
    "        best_phi, best_f, best_val = results[res_max]\n",
    "    elif mod == 2: \n",
    "        # For S_2 get the minimum\n",
    "        plt.scatter(results[np.argmin(results[:,2])][0], results[np.argmin(results[:,2])][1], marker=\"o\", label=\"Loudest point\")\n",
    "        best_phi, best_f, best_val = results[np.argmin(results[:,2])]\n",
    "        \n",
    "    plt.title(f\"Searching over frequency and phase - 2D search $S_{mod}$\")\n",
    "    plt.legend(loc='best')\n",
    "    plt.xlabel(\"Frequency [Hz]\")\n",
    "    plt.ylabel(\"Phase\")\n",
    "    plt.colorbar(CS, label=\"Prober output\")\n",
    "    plt.show()\n",
    "    plt.close()\n",
    "    \n",
    "    ### Caluclate amplitude (look at data at peak)\n",
    "    print(best_phi, best_f, best_val)\n",
    "    \n",
    "    return (best_phi, best_f, best_val)"
   ]
  },
  {
   "cell_type": "code",
   "execution_count": 64,
   "metadata": {},
   "outputs": [
    {
     "data": {
      "text/plain": [
       "'0 0 0\\r\\n'"
      ]
     },
     "execution_count": 64,
     "metadata": {},
     "output_type": "execute_result"
    }
   ],
   "source": [
    "prober_m12(os.path.join(exe_dir,\"data_f50_a05_s15.txt\"))"
   ]
  },
  {
   "cell_type": "code",
   "execution_count": 66,
   "metadata": {},
   "outputs": [],
   "source": [
    "# Find frequency of the signal.\n",
    "def find_freq_m3(file_name):\n",
    "    \n",
    "    # analyse input file using method 3\n",
    "    results = np.loadtxt(prober_m3(os.path.join(exe_dir,file_name)))\n",
    "    res_max = np.argmax(results[:,2])\n",
    "    best_f = results[res_max,0]\n",
    "    \n",
    "   \n",
    "    return best_f"
   ]
  },
  {
   "cell_type": "code",
   "execution_count": 67,
   "metadata": {},
   "outputs": [
    {
     "data": {
      "text/plain": [
       "50.0"
      ]
     },
     "execution_count": 67,
     "metadata": {},
     "output_type": "execute_result"
    }
   ],
   "source": [
    "find_freq_m3(\"data_f50_a50_s05.txt\")"
   ]
  },
  {
   "cell_type": "code",
   "execution_count": 82,
   "metadata": {},
   "outputs": [],
   "source": [
    "# Find phase of the signal. Use method 2, i.e., find phase for which s2 has a minimum.\n",
    "def find_phase_m2(file_name, freq, phase_steps):\n",
    "    \n",
    "    phase = 0\n",
    "    p = 0\n",
    "    \n",
    "    # calculate s2 using prober\n",
    "    result_str = prober_m12(os.path.join(exe_dir, file_name), f=freq, phi=p, mod=2)\n",
    "    s2_min = float(result_str.split()[2])\n",
    "    \n",
    "    # generate array of phase values between 0 and 2*Pi with the given number of steps\n",
    "    phase_array = np.linspace(0.0, 2*np.pi, num=phase_steps)\n",
    "    \n",
    "    for i in range(0, phase_steps):\n",
    "        p = phase_array[i]\n",
    "        # calculate s2 using prober with input: file at file_path, frequency, phase = i\n",
    "        result_str = prober_m12(os.path.join(exe_dir, file_name), f=freq, phi=p, mod=2)\n",
    "        s2 = float(result_str.split()[2])\n",
    "        if s2 < s2_min:\n",
    "            phase = p\n",
    "            s2_min = s2\n",
    "    \n",
    "    return phase"
   ]
  },
  {
   "cell_type": "code",
   "execution_count": 83,
   "metadata": {},
   "outputs": [
    {
     "data": {
      "text/plain": [
       "2.729060284936588"
      ]
     },
     "execution_count": 83,
     "metadata": {},
     "output_type": "execute_result"
    }
   ],
   "source": [
    "find_phase_m2(\"data_f100_phi27_A10_s01.txt\", 100, 100)"
   ]
  },
  {
   "cell_type": "code",
   "execution_count": 74,
   "metadata": {},
   "outputs": [
    {
     "name": "stdout",
     "output_type": "stream",
     "text": [
      "C:/Users/emmav/OneDrive/Dokumente/DataAnalysisLab22/datalab_ss22/code\\generate_source -o C:/Users/emmav/OneDrive/Dokumente/DataAnalysisLab22/datalab_ss22/code\\data_f100_phi27_A10_s01.txt -s 0.1 -d 1e-05 -N 100000 -f 100 -p 2.7 -a 10 -r 0\n"
     ]
    },
    {
     "data": {
      "text/plain": [
       "'C:/Users/emmav/OneDrive/Dokumente/DataAnalysisLab22/datalab_ss22/code\\\\data_f100_phi27_A10_s01.txt'"
      ]
     },
     "execution_count": 74,
     "metadata": {},
     "output_type": "execute_result"
    }
   ],
   "source": [
    "generate_source(outputFile=\"data_f100_phi27_A10_s01.txt\", \n",
    "    sigma=0.1, \n",
    "    delta_T=None, \n",
    "    N=100000,\n",
    "    f=100, \n",
    "    phi=2.7, \n",
    "    A=10, \n",
    "    r=0)"
   ]
  },
  {
   "cell_type": "code",
   "execution_count": 86,
   "metadata": {},
   "outputs": [],
   "source": [
    "# Calculate amplitude using method 1 if frequency and phase are known.\n",
    "def find_amplitude_m1(file_name, freq, phase):\n",
    "    \n",
    "    # calculate s1 using prober\n",
    "    result_str = prober_m12(os.path.join(exe_dir, file_name), f=freq, phi=phase, mod=1)\n",
    "    s1 = float(result_str.split()[2])\n",
    "    \n",
    "    amplitude = 2*s1 \n",
    "    \n",
    "    return amplitude "
   ]
  },
  {
   "cell_type": "code",
   "execution_count": 87,
   "metadata": {},
   "outputs": [
    {
     "data": {
      "text/plain": [
       "10.00004"
      ]
     },
     "execution_count": 87,
     "metadata": {},
     "output_type": "execute_result"
    }
   ],
   "source": [
    "find_amplitude_m1(\"data_f100_phi27_A10_s01.txt\", 100, 2.7)"
   ]
  },
  {
   "cell_type": "code",
   "execution_count": 88,
   "metadata": {},
   "outputs": [],
   "source": [
    "def find_freq_phase_amplitude(file_name, phase_steps):\n",
    "    freq = find_freq_m3(file_name)\n",
    "    phase = find_phase_m2(file_name, freq, phase_steps)\n",
    "    amplitude = find_amplitude_m1(file_name, freq, phase)\n",
    "    \n",
    "    results = [freq, phase, amplitude]\n",
    "    \n",
    "    return results"
   ]
  },
  {
   "cell_type": "code",
   "execution_count": 90,
   "metadata": {},
   "outputs": [
    {
     "data": {
      "text/plain": [
       "[100.0, 2.6945924964657944, 9.99994]"
      ]
     },
     "execution_count": 90,
     "metadata": {},
     "output_type": "execute_result"
    }
   ],
   "source": [
    "find_freq_phase_amplitude(\"data_f100_phi27_A10_s01.txt\", 500)"
   ]
  },
  {
   "cell_type": "code",
   "execution_count": null,
   "metadata": {},
   "outputs": [],
   "source": []
  }
 ],
 "metadata": {
  "kernelspec": {
   "display_name": "Python [conda env:.conda-data_analysis_lab]",
   "language": "python",
   "name": "conda-env-.conda-data_analysis_lab-py"
  },
  "language_info": {
   "codemirror_mode": {
    "name": "ipython",
    "version": 3
   },
   "file_extension": ".py",
   "mimetype": "text/x-python",
   "name": "python",
   "nbconvert_exporter": "python",
   "pygments_lexer": "ipython3",
   "version": "3.8.13"
  }
 },
 "nbformat": 4,
 "nbformat_minor": 4
}
